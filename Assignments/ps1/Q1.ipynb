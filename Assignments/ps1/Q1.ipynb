{
 "cells": [
  {
   "cell_type": "code",
   "execution_count": 1,
   "metadata": {},
   "outputs": [],
   "source": [
    "import numpy as np\n",
    "from numpy.linalg import inv\n",
    "import CostFunction"
   ]
  },
  {
   "cell_type": "markdown",
   "metadata": {},
   "source": [
    "Initialize the parameter vector to zero, and train the logistic regression by Newton's method (by default, 10 iterations)."
   ]
  },
  {
   "cell_type": "code",
   "execution_count": 2,
   "metadata": {},
   "outputs": [],
   "source": [
    "def logistic_reg(X, y, max_iterations = 10):\n",
    "    n = X.shape[1]\n",
    "    theta = np.zeros((n,1))\n",
    "    J, grad, hess = CostFunction.costFunction(theta, X, y)\n",
    "    print('Initial cost:', J)\n",
    "    for i in range(max_iterations):\n",
    "        theta = theta - np.matmul(inv(hess), grad)\n",
    "        J, grad, hess = CostFunction.costFunction(theta, X, y)\n",
    "        print('Cost after iteration', str(i+1), ':', J)\n",
    "    return theta"
   ]
  },
  {
   "cell_type": "markdown",
   "metadata": {},
   "source": [
    "Here we load the two data files."
   ]
  },
  {
   "cell_type": "code",
   "execution_count": 3,
   "metadata": {
    "scrolled": true
   },
   "outputs": [],
   "source": [
    "temp = []\n",
    "with open('logistic_x.txt') as f:\n",
    "    for line in f:\n",
    "        x = line.rstrip(\"\\n\").strip().split(' ')\n",
    "        while '' in x:\n",
    "            x.remove('')\n",
    "        temp.append(x)\n",
    "m = len(temp)\n",
    "n = len(temp[0]) + 1\n",
    "X = np.zeros((m,n))\n",
    "for i in range(m):\n",
    "    X[i,:] = 1, float(temp[i][0]), float(temp[i][1])\n",
    "\n",
    "temp = []\n",
    "with open('logistic_y.txt') as f:\n",
    "    for line in f:\n",
    "        temp.append(float(line.rstrip(\"\\n\").strip()))\n",
    "y = np.zeros((len(temp), 1))\n",
    "y[:,0] = temp"
   ]
  },
  {
   "cell_type": "markdown",
   "metadata": {},
   "source": [
    "Run the logistic regression to obtain the coefficient vector."
   ]
  },
  {
   "cell_type": "code",
   "execution_count": 4,
   "metadata": {},
   "outputs": [
    {
     "name": "stdout",
     "output_type": "stream",
     "text": [
      "Initial cost: 0.693147180559946\n",
      "Cost after iteration 1 : 0.374724707576039\n",
      "Cost after iteration 2 : 0.3342501357695514\n",
      "Cost after iteration 3 : 0.3292811994797007\n",
      "Cost after iteration 4 : 0.32914756442755344\n",
      "Cost after iteration 5 : 0.3291474312958552\n",
      "Cost after iteration 6 : 0.32914743129571206\n",
      "Cost after iteration 7 : 0.329147431295712\n",
      "Cost after iteration 8 : 0.32914743129571206\n",
      "Cost after iteration 9 : 0.32914743129571206\n",
      "Cost after iteration 10 : 0.329147431295712\n"
     ]
    }
   ],
   "source": [
    "theta = logistic_reg(X, y)"
   ]
  },
  {
   "cell_type": "markdown",
   "metadata": {},
   "source": [
    "The cost function seems to converge (at around 0.329147) after 6 iterations."
   ]
  },
  {
   "cell_type": "code",
   "execution_count": 5,
   "metadata": {},
   "outputs": [
    {
     "name": "stdout",
     "output_type": "stream",
     "text": [
      "[[-2.6205116 ]\n",
      " [ 0.76037154]\n",
      " [ 1.17194674]]\n"
     ]
    }
   ],
   "source": [
    "print(theta)"
   ]
  },
  {
   "cell_type": "markdown",
   "metadata": {},
   "source": [
    "Note that the first element is the intercept term, while the second and the third correspond to the coefficients of x1, x2 in this order."
   ]
  },
  {
   "cell_type": "markdown",
   "metadata": {},
   "source": [
    "###################################################################################################################"
   ]
  },
  {
   "cell_type": "code",
   "execution_count": 6,
   "metadata": {},
   "outputs": [],
   "source": [
    "import matplotlib.pyplot as plt"
   ]
  },
  {
   "cell_type": "code",
   "execution_count": 7,
   "metadata": {},
   "outputs": [],
   "source": [
    "# Only need to use x1 and x2 variables in the plot\n",
    "x1 = X[:,1]\n",
    "x1 = x1.reshape((x1.shape[0],1))\n",
    "x2 = X[:,2]\n",
    "x2 = x2.reshape((x2.shape[0],1))"
   ]
  },
  {
   "cell_type": "code",
   "execution_count": 8,
   "metadata": {},
   "outputs": [
    {
     "data": {
      "image/png": "[encoded data removed]",
      "text/plain": [
       "<Figure size 864x576 with 1 Axes>"
      ]
     },
     "metadata": {
      "needs_background": "light"
     },
     "output_type": "display_data"
    }
   ],
   "source": [
    "fig = plt.figure(1, figsize=(12,8))\n",
    "\n",
    "# Re-write the straight line equation from standard form to slope-intercept form for plotting purpose\n",
    "slope = -theta[1]/theta[2]\n",
    "intercept = -theta[0]/theta[2]\n",
    "x_line = np.linspace(0,8,2)   # num = 2 is sufficient to plot a straight line \n",
    "y_line = slope * x_line + intercept\n",
    "\n",
    "# Plot the data in two classes\n",
    "plt.plot(x1[y==1], x2[y==1], 'b^', x1[y==-1], x2[y==-1], 'yo')\n",
    "plt.plot(x_line, y_line, '-r', label='decision boundary')\n",
    "\n",
    "# Other settings\n",
    "plt.xlabel('x1')\n",
    "plt.ylabel('x2')\n",
    "plt.title('Logistic Regression')\n",
    "plt.legend(loc='upper right')\n",
    "plt.show()"
   ]
  },
  {
   "cell_type": "code",
   "execution_count": null,
   "metadata": {},
   "outputs": [],
   "source": []
  }
 ],
 "metadata": {
  "kernelspec": {
   "display_name": "Python 3",
   "language": "python",
   "name": "python3"
  },
  "language_info": {
   "codemirror_mode": {
    "name": "ipython",
    "version": 3
   },
   "file_extension": ".py",
   "mimetype": "text/x-python",
   "name": "python",
   "nbconvert_exporter": "python",
   "pygments_lexer": "ipython3",
   "version": "3.7.0"
  }
 },
 "nbformat": 4,
 "nbformat_minor": 2
}
