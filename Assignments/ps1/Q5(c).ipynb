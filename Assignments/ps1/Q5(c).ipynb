{
 "cells": [
  {
   "cell_type": "code",
   "execution_count": 1,
   "metadata": {},
   "outputs": [],
   "source": [
    "import pandas as pd\n",
    "import numpy as np\n",
    "import LOESS\n",
    "import matplotlib.pyplot as plt"
   ]
  },
  {
   "cell_type": "markdown",
   "metadata": {},
   "source": [
    "Load the training and test sets."
   ]
  },
  {
   "cell_type": "code",
   "execution_count": 2,
   "metadata": {},
   "outputs": [],
   "source": [
    "training_data = pd.read_csv('quasar_train.csv')\n",
    "test_data = pd.read_csv('quasar_test.csv')"
   ]
  },
  {
   "cell_type": "code",
   "execution_count": 3,
   "metadata": {},
   "outputs": [],
   "source": [
    "X = np.zeros((len(training_data.columns), 2))\n",
    "X[:,0] = 1   # all elements of the first column of X are 1\n",
    "X[:,1] = np.array(training_data.columns.values).astype(float)"
   ]
  },
  {
   "cell_type": "code",
   "execution_count": 4,
   "metadata": {},
   "outputs": [],
   "source": [
    "def smoothed_spectra(data, X, tau = 5):\n",
    "    x = X[:,1]     # these are the (fixed) inputs used in locally weighted regressions\n",
    "    m = len(data)\n",
    "    n = len(x)     # number of wavelengths, same notation as in the problem set\n",
    "    smoothed_spectra = np.zeros((m, n))\n",
    "    for i in range(m):\n",
    "        y = np.array(data.iloc[[i]]).T\n",
    "        y_smoothed = LOESS.locally_weighted_linear_reg(x = x, X = X, y = y, tau = tau)\n",
    "        smoothed_spectra[i,:] = y_smoothed.T\n",
    "    return smoothed_spectra"
   ]
  },
  {
   "cell_type": "markdown",
   "metadata": {},
   "source": [
    "Apply smoothing found in part (b) to both training and test sets. The smoothed spectra will be used in the remaining parts."
   ]
  },
  {
   "cell_type": "code",
   "execution_count": 5,
   "metadata": {},
   "outputs": [],
   "source": [
    "smoothed_spectra_train = smoothed_spectra(training_data, X)\n",
    "smoothed_spectra_test = smoothed_spectra(test_data, X)"
   ]
  },
  {
   "cell_type": "markdown",
   "metadata": {},
   "source": [
    "###################################################################################################################"
   ]
  },
  {
   "cell_type": "code",
   "execution_count": 6,
   "metadata": {},
   "outputs": [],
   "source": [
    "def ker(t):\n",
    "    return max(1-t, 0)"
   ]
  },
  {
   "cell_type": "code",
   "execution_count": 7,
   "metadata": {},
   "outputs": [],
   "source": [
    "# Some useful parameters\n",
    "m_train = len(training_data)\n",
    "m_test = len(test_data)\n",
    "n_left = 50\n",
    "n_right = 300"
   ]
  },
  {
   "cell_type": "code",
   "execution_count": 8,
   "metadata": {},
   "outputs": [],
   "source": [
    "def find_neighb_and_max(f, training_data, k = 3, n_right = 300):\n",
    "    '''\n",
    "    Input:  (i)   f, a given spectrum,\n",
    "            (ii)  training data contains all spectra in the training set,\n",
    "            (iii) k, desired number of indices in the neighborhood of f,\n",
    "            (iv)  n_right = number of wavelengths on the right of Lyman-alpha line.\n",
    "    Output: return\n",
    "            (i)   neighb_indices, the indices corresponding to the k spectra closest to f,\n",
    "            (ii)  neighb_metric, the squared distance between f and spectra in neighb(f)\n",
    "            (iii) max_metric, the squared distance between f and the spectrum most distant from f\n",
    "    '''\n",
    "    f_right = f[-n_right:]\n",
    "    squared_distances = np.sum((training_data[:,-n_right:] - f_right)**2 ,axis = 1)\n",
    "    \n",
    "    neighb_indices = np.argpartition(squared_distances, k)[:k]\n",
    "    neighb_metric = squared_distances[neighb_indices]\n",
    "    max_index = np.argmax(squared_distances)\n",
    "    max_metric = squared_distances[max_index]\n",
    "    \n",
    "    return neighb_indices, neighb_metric, max_metric"
   ]
  },
  {
   "cell_type": "code",
   "execution_count": 9,
   "metadata": {},
   "outputs": [],
   "source": [
    "def f_left_hat(f, training_data, k = 3, n_left = 50, n_right = 300):\n",
    "    '''\n",
    "    Input:  (i)   f, a given spectrum,\n",
    "            (ii)  training data contains all spectra in the training set,\n",
    "            (iii) k, desired number of indices in the neighborhood of f,\n",
    "            (iv)  n_left, number of wavelengths within the Lyman-alpha forest region\n",
    "            (v)   n_right, number of wavelengths on the right of Lyman-alpha line.\n",
    "    Output: return\n",
    "            f_left_hat, the nonparametric functional regression estimator of f_left (left portion of the given f)\n",
    "    '''    \n",
    "    \n",
    "    weights = np.zeros((k, 1))\n",
    "    neighb_indices, neighb_metric, max_metric = find_neighb_and_max(f, training_data, k = k, n_right = n_right)\n",
    "    for i in range(k):\n",
    "        weights[i,0] = ker(neighb_metric[i]/max_metric)\n",
    "    f_left_neighb = training_data[neighb_indices,:n_left]\n",
    "    f_left_hat = np.matmul(weights.T, f_left_neighb) / sum(weights)\n",
    "    \n",
    "    return f_left_hat"
   ]
  },
  {
   "cell_type": "markdown",
   "metadata": {},
   "source": [
    "For the training set, compute the estimator f_left_hat for each training example j = 1,...,m_train. The results are stored in f_left_hat_train (a m_train x n_left matrix)."
   ]
  },
  {
   "cell_type": "code",
   "execution_count": 10,
   "metadata": {},
   "outputs": [
    {
     "name": "stdout",
     "output_type": "stream",
     "text": [
      "[[0.95146105 0.98409078 1.01225449 ... 1.05467279 1.05341071 1.05567099]\n",
      " [1.2654473  1.31769261 1.34673052 ... 1.04557044 1.05943557 1.07919571]\n",
      " [0.46620161 0.56055059 0.64247097 ... 0.99404862 1.00842528 1.02928999]\n",
      " ...\n",
      " [0.57504224 0.64620473 0.69587859 ... 0.97302349 0.97703817 0.98795494]\n",
      " [0.09381072 0.20515599 0.32552023 ... 1.12085167 1.13926718 1.1649192 ]\n",
      " [1.4488917  1.3656172  1.28232177 ... 1.11384246 1.12615486 1.14117351]]\n"
     ]
    }
   ],
   "source": [
    "f_left_hat_train = np.zeros((m_train, n_left))\n",
    "for j in range(m_train):\n",
    "    f = smoothed_spectra_train[j,:]\n",
    "    f_left_hat_train[j,:] = f_left_hat(f = f, training_data = smoothed_spectra_train)\n",
    "print(f_left_hat_train)"
   ]
  },
  {
   "cell_type": "markdown",
   "metadata": {},
   "source": [
    "Computer the error for each training example."
   ]
  },
  {
   "cell_type": "code",
   "execution_count": 11,
   "metadata": {},
   "outputs": [
    {
     "name": "stdout",
     "output_type": "stream",
     "text": [
      "[1.325294   1.12749272 6.1556964  0.11105456 0.40855764 1.24816473\n",
      " 0.48173769 1.24978635 1.3226846  1.24773746 1.38566604 0.0806775\n",
      " 0.82472713 1.71502647 1.04537061 1.59637989 0.74476006 0.86285272\n",
      " 0.10768188 0.61561577 0.97917577 0.34118958 1.52960039 1.19713388\n",
      " 0.91629868 1.86106613 1.31668733 1.31286651 2.50979339 1.05101077\n",
      " 1.55437003 0.58049781 2.9372594  0.78463672 0.1925452  1.59308126\n",
      " 1.42152984 0.16645379 0.4559788  0.92891645 0.74857197 0.63980526\n",
      " 1.71805739 0.67488205 0.88351688 0.2476439  2.46760181 0.54854143\n",
      " 0.19816866 0.95993466 2.96773531 0.51608491 0.75935742 1.63291766\n",
      " 0.46353399 0.3649539  0.74417534 0.28439757 0.24431154 0.93770007\n",
      " 0.83146791 1.06702387 0.60132444 2.16464086 0.50100315 0.67800417\n",
      " 1.44138242 0.45602066 0.68714993 0.66539846 0.64463696 1.11084087\n",
      " 1.07597067 2.64523868 0.29823992 1.08204351 1.69571353 1.19469169\n",
      " 1.71049595 0.23692866 0.31428476 1.39001921 0.50465562 0.9182183\n",
      " 0.8257975  1.46448247 0.35453244 0.54326685 2.03283181 0.68466442\n",
      " 2.07529789 2.58680409 0.80189214 3.41137242 2.76928946 0.40153613\n",
      " 0.84050343 0.97049655 0.22455604 0.91531203 0.90959296 1.84417691\n",
      " 0.76252176 0.23414747 1.01485102 2.04997297 0.72846238 1.95373451\n",
      " 1.25603995 0.76690782 1.68845274 0.72482192 1.22331275 0.64542056\n",
      " 1.74065275 1.8144006  0.43108456 0.93133604 0.33087798 0.7866793\n",
      " 2.94770046 1.76022031 1.4872924  0.48654686 0.66558126 1.15005082\n",
      " 0.34513536 0.20368507 2.28737975 1.22927607 1.41990976 1.41762705\n",
      " 1.15149492 0.58429874 0.26814024 0.34780018 0.55024801 0.80113113\n",
      " 0.85095539 0.87448806 0.53541083 0.75783673 0.85336345 0.69220486\n",
      " 2.95054052 0.30316975 0.84268719 0.1967744  0.91948842 3.68539527\n",
      " 1.13003307 1.06284069 1.18391103 0.87057818 2.57431394 1.01804595\n",
      " 0.65545977 2.20213075 0.55803965 0.60575971 0.50762021 1.48176775\n",
      " 1.27748348 2.37228587 1.46551111 2.49523329 1.57507128 1.06458469\n",
      " 0.37987029 1.74847546 0.1417305  0.38506331 1.09482138 1.61466275\n",
      " 0.45228033 0.31817763 0.71832851 0.7363982  0.31356825 2.12339361\n",
      " 0.29440122 1.78637301 1.16307019 0.24028231 1.1739165  1.69128087\n",
      " 0.81014343 0.56958039 0.51670607 0.44795073 0.28809394 0.4767728\n",
      " 0.65780976 0.68021123 1.37463965 0.31061316 0.26159555 0.49653341\n",
      " 1.21954696 0.18194084]\n"
     ]
    }
   ],
   "source": [
    "training_error = np.sum((f_left_hat_train - smoothed_spectra_train[:,:n_left])**2, axis = 1)\n",
    "print(training_error)"
   ]
  },
  {
   "cell_type": "markdown",
   "metadata": {},
   "source": [
    "Compute the average training error."
   ]
  },
  {
   "cell_type": "code",
   "execution_count": 12,
   "metadata": {},
   "outputs": [
    {
     "name": "stdout",
     "output_type": "stream",
     "text": [
      "1.0663958023823594\n"
     ]
    }
   ],
   "source": [
    "average_training_error = sum(training_error)/len(training_error)\n",
    "print(average_training_error)"
   ]
  },
  {
   "cell_type": "markdown",
   "metadata": {},
   "source": [
    "###################################################################################################################"
   ]
  },
  {
   "cell_type": "markdown",
   "metadata": {},
   "source": [
    "For the test set, compute the estimator f_left_hat for each training example j = 1,...,m_test. The results are stored in f_left_hat_test (a m_test x n_left matrix)."
   ]
  },
  {
   "cell_type": "code",
   "execution_count": 13,
   "metadata": {},
   "outputs": [
    {
     "name": "stdout",
     "output_type": "stream",
     "text": [
      "[[1.05779654 1.0392748  1.01344001 ... 1.02851882 1.03705917 1.05320896]\n",
      " [0.66717209 0.80490248 0.91989562 ... 1.04970597 1.06714675 1.08566425]\n",
      " [0.40807136 0.54551486 0.66111567 ... 1.12505545 1.12229297 1.1199594 ]\n",
      " ...\n",
      " [0.85122834 0.86955193 0.891719   ... 1.18805446 1.17741323 1.16976733]\n",
      " [0.56980645 0.62503838 0.68115263 ... 1.04653933 1.05504964 1.07320385]\n",
      " [0.82137191 0.88955105 0.94602853 ... 1.01652496 1.03896532 1.06573871]]\n"
     ]
    }
   ],
   "source": [
    "f_left_hat_test = np.zeros((m_test, n_left))\n",
    "for j in range(m_test):\n",
    "    f = smoothed_spectra_test[j,:]\n",
    "    f_left_hat_test[j,:] = f_left_hat(f = f, training_data = smoothed_spectra_train)\n",
    "print(f_left_hat_test)"
   ]
  },
  {
   "cell_type": "markdown",
   "metadata": {},
   "source": [
    "Computer the error for each test example."
   ]
  },
  {
   "cell_type": "code",
   "execution_count": 14,
   "metadata": {},
   "outputs": [
    {
     "name": "stdout",
     "output_type": "stream",
     "text": [
      "[ 0.29401478  3.9746809   2.60674828  1.38126953  6.07255691  2.66317197\n",
      "  2.24585214  1.3569354   8.37992567  0.83419717 12.51940012  3.89160291\n",
      "  0.85543276  4.92064121  3.63057172  0.58252314  1.76390175  1.28532057\n",
      "  1.70323179  0.91615686  2.98328607  0.29554625  2.01074939  4.35949318\n",
      "  0.79247367  6.04187028  1.26107972  6.20086315  1.91749608  1.26715475\n",
      "  5.04034864  1.46010126  3.15359778  0.69706331  2.09165624  2.96534612\n",
      "  2.19405569  1.22730362  1.11234868  1.57747818  2.59167208  1.85581581\n",
      "  2.04742962  1.52699513  1.07249648  2.03254269  0.44658294  2.09487739\n",
      "  1.78125303  9.52136617]\n"
     ]
    }
   ],
   "source": [
    "test_error = np.sum((f_left_hat_test - smoothed_spectra_test[:,:n_left])**2, axis = 1)\n",
    "print(test_error)"
   ]
  },
  {
   "cell_type": "markdown",
   "metadata": {},
   "source": [
    "Compute the average test error."
   ]
  },
  {
   "cell_type": "code",
   "execution_count": 15,
   "metadata": {},
   "outputs": [
    {
     "name": "stdout",
     "output_type": "stream",
     "text": [
      "2.7099695794129364\n"
     ]
    }
   ],
   "source": [
    "average_test_error = sum(test_error)/len(test_error)\n",
    "print(average_test_error)"
   ]
  },
  {
   "cell_type": "markdown",
   "metadata": {},
   "source": [
    "Plot entire amooth spectrum and the fitted curve for test example 1 & 6."
   ]
  },
  {
   "cell_type": "code",
   "execution_count": 16,
   "metadata": {},
   "outputs": [
    {
     "data": {
      "image/png": "[encoded data removed]",
      "text/plain": [
       "<Figure size 864x576 with 1 Axes>"
      ]
     },
     "metadata": {
      "needs_background": "light"
     },
     "output_type": "display_data"
    }
   ],
   "source": [
    "fig = plt.figure(1, figsize=(12,8))\n",
    "x = X[:,1]\n",
    "\n",
    "# Plot the entire smooth spectrum and the fitted f_left_hat for test example 1\n",
    "plt.plot(x, smoothed_spectra_test[0,:], color = 'black', label = 'smooth spectrum')\n",
    "plt.plot(x[:n_left], f_left_hat_test[0,:], color = 'red', label = 'functional regression')\n",
    "\n",
    "# Other settings\n",
    "plt.xlabel('Wavelength')\n",
    "plt.ylabel('Flux')\n",
    "plt.title('Entire Smooth Spectrum vs. Fitted Curve')\n",
    "plt.legend(loc = 'upper right')\n",
    "plt.show()"
   ]
  },
  {
   "cell_type": "code",
   "execution_count": 17,
   "metadata": {},
   "outputs": [
    {
     "data": {
      "image/png": "[encoded data removed]",
      "text/plain": [
       "<Figure size 864x576 with 1 Axes>"
      ]
     },
     "metadata": {
      "needs_background": "light"
     },
     "output_type": "display_data"
    }
   ],
   "source": [
    "fig = plt.figure(1, figsize=(12,8))\n",
    "x = X[:,1]\n",
    "\n",
    "# Plot the entire smooth spectrum and the fitted f_left_hat for test example 6\n",
    "plt.plot(x, smoothed_spectra_test[5,:], color = 'black', label = 'smooth spectrum')\n",
    "plt.plot(x[:n_left], f_left_hat_test[5,:], color = 'red', label = 'functional regression')\n",
    "\n",
    "# Other settings\n",
    "plt.xlabel('Wavelength')\n",
    "plt.ylabel('Flux')\n",
    "plt.title('Entire Smooth Spectrum vs. Fitted Curve')\n",
    "plt.legend(loc = 'upper right')\n",
    "plt.show()"
   ]
  },
  {
   "cell_type": "code",
   "execution_count": null,
   "metadata": {},
   "outputs": [],
   "source": []
  }
 ],
 "metadata": {
  "kernelspec": {
   "display_name": "Python 3",
   "language": "python",
   "name": "python3"
  },
  "language_info": {
   "codemirror_mode": {
    "name": "ipython",
    "version": 3
   },
   "file_extension": ".py",
   "mimetype": "text/x-python",
   "name": "python",
   "nbconvert_exporter": "python",
   "pygments_lexer": "ipython3",
   "version": "3.7.0"
  }
 },
 "nbformat": 4,
 "nbformat_minor": 2
}
