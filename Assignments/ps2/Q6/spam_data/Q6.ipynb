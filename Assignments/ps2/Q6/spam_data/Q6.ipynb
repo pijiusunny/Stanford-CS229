{
 "cells": [
  {
   "cell_type": "code",
   "execution_count": 1,
   "metadata": {},
   "outputs": [],
   "source": [
    "import numpy as np\n",
    "import nb"
   ]
  },
  {
   "cell_type": "code",
   "execution_count": 2,
   "metadata": {},
   "outputs": [],
   "source": [
    "trainMatrix, tokenlist, trainCategory = nb.readMatrix('MATRIX.TRAIN')\n",
    "testMatrix, tokenlist, testCategory = nb.readMatrix('MATRIX.TEST')\n",
    "\n",
    "state = nb.nb_train(trainMatrix, trainCategory)"
   ]
  },
  {
   "cell_type": "code",
   "execution_count": 3,
   "metadata": {},
   "outputs": [
    {
     "name": "stdout",
     "output_type": "stream",
     "text": [
      "Error: 0.0163\n"
     ]
    }
   ],
   "source": [
    "output = nb.nb_test(testMatrix, state)\n",
    "error = nb.evaluate(output, testCategory)"
   ]
  },
  {
   "cell_type": "markdown",
   "metadata": {},
   "source": [
    "(Extra materials) It is an increasingly known result that binarized Multinomial Naive Bayes (MNB) is better than the standard MNB taught in the lectures. Note that binarized MNB is NOT the same as multi-variate Bernoulli event model. See Spam Filtering with Naive Bayes - Which Naive Bayes? (Metsis et al., 2006)."
   ]
  },
  {
   "cell_type": "code",
   "execution_count": 4,
   "metadata": {},
   "outputs": [],
   "source": [
    "# Binarized Multinomial Naive Bayes\n",
    "# Note that the features constructed here are the same as those in multi-variate Bernoulli event model\n",
    "trainMatrix = (trainMatrix > 0)\n",
    "testMatrix = (testMatrix > 0)"
   ]
  },
  {
   "cell_type": "code",
   "execution_count": 5,
   "metadata": {},
   "outputs": [],
   "source": [
    "# Re-train the standard MNB, but with these new features\n",
    "state = nb.nb_train(trainMatrix, trainCategory)"
   ]
  },
  {
   "cell_type": "code",
   "execution_count": 6,
   "metadata": {},
   "outputs": [
    {
     "name": "stdout",
     "output_type": "stream",
     "text": [
      "Error: 0.0075\n"
     ]
    }
   ],
   "source": [
    "output = nb.nb_test(testMatrix, state)\n",
    "error = nb.evaluate(output, testCategory)"
   ]
  },
  {
   "cell_type": "markdown",
   "metadata": {},
   "source": [
    "The error is reduced from 1.63% to 0.75%."
   ]
  },
  {
   "cell_type": "markdown",
   "metadata": {},
   "source": [
    "###################################################################################################################"
   ]
  },
  {
   "cell_type": "markdown",
   "metadata": {},
   "source": [
    "Need to use the parameters fit in part (a), so re-train the standard MNB model."
   ]
  },
  {
   "cell_type": "code",
   "execution_count": 7,
   "metadata": {},
   "outputs": [],
   "source": [
    "trainMatrix, tokenlist, trainCategory = nb.readMatrix('MATRIX.TRAIN')\n",
    "testMatrix, tokenlist, testCategory = nb.readMatrix('MATRIX.TEST')\n",
    "\n",
    "state = nb.nb_train(trainMatrix, trainCategory)"
   ]
  },
  {
   "cell_type": "code",
   "execution_count": 8,
   "metadata": {},
   "outputs": [],
   "source": [
    "def indicativeToken(state, tokenlist, mostIndicative):\n",
    "    logLikelihoodRatio = np.log(state['phi|y=1']) - np.log(state['phi|y=0'])\n",
    "    indices = logLikelihoodRatio.argsort()[-mostIndicative:]\n",
    "    for index in indices:\n",
    "        print(tokenlist[index])"
   ]
  },
  {
   "cell_type": "code",
   "execution_count": 9,
   "metadata": {},
   "outputs": [
    {
     "name": "stdout",
     "output_type": "stream",
     "text": [
      "valet\n",
      "ebai\n",
      "unsubscrib\n",
      "spam\n",
      "httpaddr\n"
     ]
    }
   ],
   "source": [
    "indicativeToken(state = state, tokenlist = tokenlist, mostIndicative = 5)"
   ]
  },
  {
   "cell_type": "markdown",
   "metadata": {},
   "source": [
    "###################################################################################################################"
   ]
  },
  {
   "cell_type": "code",
   "execution_count": 10,
   "metadata": {},
   "outputs": [],
   "source": [
    "import matplotlib.pyplot as plt"
   ]
  },
  {
   "cell_type": "code",
   "execution_count": 11,
   "metadata": {},
   "outputs": [
    {
     "name": "stdout",
     "output_type": "stream",
     "text": [
      "Error: 0.0387\n",
      "Error: 0.0262\n",
      "Error: 0.0262\n",
      "Error: 0.0187\n",
      "Error: 0.0175\n",
      "Error: 0.0163\n"
     ]
    }
   ],
   "source": [
    "errorList = []\n",
    "testMatrix, tokenlist, testCategory = nb.readMatrix('MATRIX.TEST')\n",
    "trainingSetSize = [50, 100, 200, 400, 800, 1400]\n",
    "for i in trainingSetSize:\n",
    "    trainMatrix, tokenlist, trainCategory = nb.readMatrix('MATRIX.TRAIN.' + str(i))\n",
    "    state = nb.nb_train(trainMatrix, trainCategory)\n",
    "    output = nb.nb_test(testMatrix, state)\n",
    "    error = nb.evaluate(output, testCategory)\n",
    "    errorList.append(error)"
   ]
  },
  {
   "cell_type": "code",
   "execution_count": 12,
   "metadata": {},
   "outputs": [
    {
     "data": {
      "image/png": "[encoded data removed]",
      "text/plain": [
       "<Figure size 864x576 with 1 Axes>"
      ]
     },
     "metadata": {
      "needs_background": "light"
     },
     "output_type": "display_data"
    }
   ],
   "source": [
    "fig = plt.figure(1, figsize = (12,8))\n",
    "\n",
    "# Plot the learning curve\n",
    "plt.plot(trainingSetSize, errorList)\n",
    "\n",
    "# Other settings\n",
    "plt.xlabel('Training Set Size')\n",
    "plt.ylabel('Test Set Error')\n",
    "plt.title('Spam Classification using Multinomial Naive Bayes')\n",
    "plt.show()"
   ]
  },
  {
   "cell_type": "markdown",
   "metadata": {},
   "source": [
    "The best test set error is achieved when training set size is 1400."
   ]
  },
  {
   "cell_type": "markdown",
   "metadata": {},
   "source": [
    "###################################################################################################################"
   ]
  },
  {
   "cell_type": "code",
   "execution_count": 13,
   "metadata": {},
   "outputs": [],
   "source": [
    "import svm"
   ]
  },
  {
   "cell_type": "code",
   "execution_count": 14,
   "metadata": {},
   "outputs": [
    {
     "name": "stdout",
     "output_type": "stream",
     "text": [
      "Error: 0.0213\n",
      "Error: 0.0175\n",
      "Error: 0.0025\n",
      "Error: 0.0025\n",
      "Error: 0.0000\n",
      "Error: 0.0000\n"
     ]
    }
   ],
   "source": [
    "errorList = []\n",
    "testMatrix, tokenlist, testCategory = svm.readMatrix('MATRIX.TEST')\n",
    "trainingSetSize = [50, 100, 200, 400, 800, 1400]\n",
    "for i in trainingSetSize:\n",
    "    trainMatrix, tokenlist, trainCategory = svm.readMatrix('MATRIX.TRAIN.' + str(i))\n",
    "    state = svm.svm_train(trainMatrix, trainCategory)\n",
    "    output = svm.svm_test(testMatrix, state)\n",
    "    error = svm.evaluate(output, testCategory)\n",
    "    errorList.append(error)"
   ]
  },
  {
   "cell_type": "code",
   "execution_count": 15,
   "metadata": {},
   "outputs": [
    {
     "data": {
      "image/png": "[encoded data removed]",
      "text/plain": [
       "<Figure size 864x576 with 1 Axes>"
      ]
     },
     "metadata": {
      "needs_background": "light"
     },
     "output_type": "display_data"
    }
   ],
   "source": [
    "fig = plt.figure(1, figsize = (12,8))\n",
    "\n",
    "# Plot the learning curve\n",
    "plt.plot(trainingSetSize, errorList)\n",
    "\n",
    "# Other settings\n",
    "plt.xlabel('Training Set Size')\n",
    "plt.ylabel('Test Set Error')\n",
    "plt.title('Spam Classification using SVM with RBF kernel')\n",
    "plt.show()"
   ]
  },
  {
   "cell_type": "markdown",
   "metadata": {},
   "source": [
    "###################################################################################################################"
   ]
  },
  {
   "cell_type": "markdown",
   "metadata": {},
   "source": [
    "At any given training set size, SVM has a lower generalization error than Naive Bayes. Moreover, as the training set size gets larger, the generalization error of SVM drcreases rapidly (and can get to zero) whereas that of Naive Bayes drops steadily."
   ]
  },
  {
   "cell_type": "code",
   "execution_count": null,
   "metadata": {},
   "outputs": [],
   "source": []
  }
 ],
 "metadata": {
  "kernelspec": {
   "display_name": "Python 3",
   "language": "python",
   "name": "python3"
  },
  "language_info": {
   "codemirror_mode": {
    "name": "ipython",
    "version": 3
   },
   "file_extension": ".py",
   "mimetype": "text/x-python",
   "name": "python",
   "nbconvert_exporter": "python",
   "pygments_lexer": "ipython3",
   "version": "3.7.0"
  }
 },
 "nbformat": 4,
 "nbformat_minor": 2
}
