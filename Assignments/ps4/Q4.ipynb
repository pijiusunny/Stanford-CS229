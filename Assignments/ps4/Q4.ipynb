{
 "cells": [
  {
   "cell_type": "markdown",
   "metadata": {},
   "source": [
    "This notebook stems from the starter code \"bellsej.py\""
   ]
  },
  {
   "cell_type": "code",
   "execution_count": 1,
   "metadata": {},
   "outputs": [],
   "source": [
    "# Some useful packages and helper functions\n",
    "\n",
    "import sounddevice as sd\n",
    "import numpy as np\n",
    "\n",
    "Fs = 11025\n",
    "\n",
    "def normalize(dat):\n",
    "    return 0.99 * dat / np.max(np.abs(dat))\n",
    "\n",
    "def load_data():\n",
    "    mix = np.loadtxt('mix.dat')\n",
    "    return mix\n",
    "\n",
    "def play(vec):\n",
    "    sd.play(vec, Fs, blocking=True)\n",
    "    \n",
    "def sigmoid(s):\n",
    "    return 1 / (1 + np.exp(-s))"
   ]
  },
  {
   "cell_type": "code",
   "execution_count": 2,
   "metadata": {},
   "outputs": [],
   "source": [
    "def unmixer(X):\n",
    "    M, N = X.shape\n",
    "    W = np.eye(N)\n",
    "\n",
    "    anneal = [0.1, 0.1, 0.1, 0.05, 0.05, 0.05, 0.02, 0.02, 0.01, 0.01,\n",
    "              0.005, 0.005, 0.002, 0.002, 0.001, 0.001]\n",
    "    print('Separating tracks ...')\n",
    "    ######## Your code here ##########\n",
    "    \n",
    "    # Use slowly decreasing learning rate for different epochs\n",
    "    for learning_rate in anneal:\n",
    "        \n",
    "        for i in range(M):\n",
    "            # Stochastic gradient ascent learning rule for ICA\n",
    "            x_i = X[i, :]\n",
    "            x_i = x_i.reshape(x_i.shape[0], 1)\n",
    "            W += learning_rate * (np.dot((1 - 2 * sigmoid(np.dot(W, x_i))), x_i.T) + np.linalg.inv(W.T))\n",
    "                \n",
    "    ###################################\n",
    "    return W\n",
    "\n",
    "def unmix(X, W):\n",
    "    S = np.zeros(X.shape)\n",
    "\n",
    "    ######### Your code here ##########\n",
    "    \n",
    "    S = np.dot(W, X.T)\n",
    "    S = S.T\n",
    "    \n",
    "    ##################################\n",
    "    return S"
   ]
  },
  {
   "cell_type": "code",
   "execution_count": 3,
   "metadata": {},
   "outputs": [
    {
     "name": "stdout",
     "output_type": "stream",
     "text": [
      "Playing mixed track 0\n",
      "Playing mixed track 1\n",
      "Playing mixed track 2\n",
      "Playing mixed track 3\n",
      "Playing mixed track 4\n"
     ]
    }
   ],
   "source": [
    "X = normalize(load_data())\n",
    "for i in range(X.shape[1]):\n",
    "    print('Playing mixed track %d' % i)\n",
    "    play(X[:, i])"
   ]
  },
  {
   "cell_type": "code",
   "execution_count": 4,
   "metadata": {},
   "outputs": [
    {
     "name": "stdout",
     "output_type": "stream",
     "text": [
      "Separating tracks ...\n"
     ]
    }
   ],
   "source": [
    "W = unmixer(X)\n",
    "S = normalize(unmix(X, W))"
   ]
  },
  {
   "cell_type": "code",
   "execution_count": 5,
   "metadata": {},
   "outputs": [
    {
     "name": "stdout",
     "output_type": "stream",
     "text": [
      "Playing separated track 0\n",
      "Playing separated track 1\n",
      "Playing separated track 2\n",
      "Playing separated track 3\n",
      "Playing separated track 4\n"
     ]
    }
   ],
   "source": [
    "for i in range(S.shape[1]):\n",
    "    print('Playing separated track %d' % i)\n",
    "    play(S[:, i])"
   ]
  },
  {
   "cell_type": "markdown",
   "metadata": {},
   "source": [
    "Different sources are now pretty clearly separated!"
   ]
  },
  {
   "cell_type": "code",
   "execution_count": null,
   "metadata": {},
   "outputs": [],
   "source": []
  }
 ],
 "metadata": {
  "kernelspec": {
   "display_name": "Python 3",
   "language": "python",
   "name": "python3"
  },
  "language_info": {
   "codemirror_mode": {
    "name": "ipython",
    "version": 3
   },
   "file_extension": ".py",
   "mimetype": "text/x-python",
   "name": "python",
   "nbconvert_exporter": "python",
   "pygments_lexer": "ipython3",
   "version": "3.7.0"
  }
 },
 "nbformat": 4,
 "nbformat_minor": 2
}
